{
  "cells": [
    {
      "cell_type": "code",
      "execution_count": null,
      "metadata": {
        "colab": {
          "base_uri": "https://localhost:8080/"
        },
        "id": "tBibPq7mb8ak",
        "outputId": "e9626189-a682-43e3-c930-098d06b539ff"
      },
      "outputs": [],
      "source": [
        "!pip install python-telegram-bot[passport,http2]\n",
        "!pip install numpy tensorflow\n",
        "!pip install opencv-python\n",
        "!pip install nest-asyncio"
      ]
    },
    {
      "cell_type": "code",
      "execution_count": null,
      "metadata": {
        "collapsed": true,
        "id": "w9RdKTVcbywF"
      },
      "outputs": [],
      "source": [
        "import ssl\n",
        "import nest_asyncio\n",
        "import numpy as np\n",
        "import tensorflow as tf\n",
        "from telegram import Update, Bot\n",
        "from telegram.ext import Application, CommandHandler, MessageHandler, filters, CallbackContext\n",
        "from io import BytesIO\n",
        "import cv2\n",
        "\n",
        "nest_asyncio.apply()\n",
        "\n",
        "TOKEN = \"Your Bot Token\"\n",
        "\n",
        "(x_train, y_train), (x_test, y_test) = tf.keras.datasets.cifar100.load_data()\n",
        "x_train, x_test = x_train / 255.0, x_test / 255.0\n",
        "\n",
        "class_names = ['Plane', 'Car', 'Bird', 'Cat', 'Deer', 'Dog', 'Frog', 'Horse', 'Ship', 'Truck']\n",
        "\n",
        "model = tf.keras.models.Sequential([\n",
        "    tf.keras.layers.Conv2D(32, (3, 3), activation='relu', input_shape=(32, 32, 3)),\n",
        "    tf.keras.layers.MaxPooling2D((2, 2)),\n",
        "    tf.keras.layers.Conv2D(64, (3, 3), activation='relu'),\n",
        "    tf.keras.layers.Flatten(),\n",
        "    tf.keras.layers.Dense(64, activation='relu'),\n",
        "    tf.keras.layers.Dense(10, activation='softmax')\n",
        "])\n",
        "\n",
        "async def start(update: Update, context: CallbackContext):\n",
        "    await update.message.reply_text('Welcome Welcome How Can i serve You! If You need to train the model write /train if you wanna get help write /help.')\n",
        "\n",
        "async def help_command(update: Update, context: CallbackContext):\n",
        "    await update.message.reply_text(\"\"\"\n",
        "     /start - Start a conversation with that\n",
        "     /help - Still in development\n",
        "     /train - Train The Model\n",
        "     \"\"\")\n",
        "\n",
        "async def train(update: Update, context: CallbackContext):\n",
        "    await update.message.reply_text(\"The Model is training please be patient !\")\n",
        "    model.compile(optimizer='adam', loss='sparse_categorical_crossentropy', metrics=['accuracy'])\n",
        "    model.fit(x_train, y_train, epochs=10, validation_data=(x_test, y_test))\n",
        "    model.save('cifar_classifier.keras')  # Use .keras or .h5 extension\n",
        "    await update.message.reply_text('Your Bot is ready please send a picture !')\n",
        "\n",
        "async def handle_message(update: Update, context: CallbackContext):\n",
        "    if model is not None:\n",
        "        await update.message.reply_text(\"Send an Image please !\")\n",
        "    else:\n",
        "        await update.message.reply_text(\"Train the model first then send an image !\")\n",
        "\n",
        "async def handle_photo(update: Update, context: CallbackContext):\n",
        "    file = await context.bot.get_file(update.message.photo[-1].file_id)\n",
        "    f = BytesIO(await file.download_as_bytearray())\n",
        "    file_bytes = np.asarray(bytearray(f.read()), dtype=np.uint8)\n",
        "    img = cv2.imdecode(file_bytes, cv2.IMREAD_COLOR)\n",
        "    img = cv2.cvtColor(img, cv2.COLOR_RGB2BGR)\n",
        "    img = cv2.resize(img, (32, 32), interpolation=cv2.INTER_AREA)\n",
        "    prediction = model.predict(np.array([img / 255.0]))\n",
        "    await update.message.reply_text(f\"In this image i see {class_names[np.argmax(prediction)]}\")\n",
        "\n",
        "def main():\n",
        "    application = Application.builder().token(TOKEN).build()\n",
        "\n",
        "    application.add_handler(CommandHandler(\"start\", start))\n",
        "    application.add_handler(CommandHandler(\"help\", help_command))\n",
        "    application.add_handler(CommandHandler(\"train\", train))\n",
        "    application.add_handler(MessageHandler(filters.PHOTO, handle_photo))\n",
        "    application.add_handler(MessageHandler(filters.TEXT & ~filters.COMMAND, handle_message))\n",
        "\n",
        "    application.run_polling()\n",
        "\n",
        "# In Colab, use this to prevent the event loop issue\n",
        "import asyncio\n",
        "asyncio.run(main())\n"
      ]
    }
  ],
  "metadata": {
    "colab": {
      "provenance": []
    },
    "kernelspec": {
      "display_name": "Python 3",
      "name": "python3"
    },
    "language_info": {
      "name": "python"
    }
  },
  "nbformat": 4,
  "nbformat_minor": 0
}
